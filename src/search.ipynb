{
 "cells": [
  {
   "cell_type": "code",
   "execution_count": 1,
   "id": "dfd100af",
   "metadata": {},
   "outputs": [],
   "source": [
    "#Uniform-Random3\n",
    "import numpy as np\n",
    "import random\n",
    "import time\n",
    "\n",
    "# Số lượng biến và mệnh đề cho Uniform Random-3-SAT\n",
    "num_vars = 10\n",
    "num_clauses = 40"
   ]
  },
  {
   "cell_type": "code",
   "execution_count": 2,
   "id": "b7625716",
   "metadata": {},
   "outputs": [
    {
     "name": "stdout",
     "output_type": "stream",
     "text": [
      "Bài toán Uniform Random-3-SAT:\n",
      "[[-5, -2, -8], [-3, 0, -7], [-2, -8, -7], [0, 5, 3], [5, 2, -4], [-1, 5, -6], [-8, -3, -2], [-3, 1, 9], [7, 0, -4], [-7, 8, 0], [9, 0, 6], [5, 8, -4], [3, -4, 2], [2, -9, 8], [-2, 0, 6], [1, -3, 0], [9, 5, 3], [-8, -6, -7], [8, -3, 6], [-6, 3, 0], [-4, 2, 3], [3, -4, -2], [7, 4, -5], [4, -8, 3], [0, -6, -9], [-2, 0, 3], [9, 2, 0], [-8, 6, 7], [-6, 0, -1], [-4, 7, 0], [-7, -2, -8], [0, 4, -5], [9, 4, -5], [-4, 3, 8], [6, 8, 9], [-2, -7, -9], [5, 0, 7], [3, 1, -9], [8, 7, 4], [0, -6, -7]]\n"
     ]
    }
   ],
   "source": [
    "# Tạo bộ dữ liệu Uniform Random-3-SAT\n",
    "def generate_uniform_random_3sat(num_vars, num_clauses):\n",
    "    clauses = []\n",
    "    for _ in range(num_clauses):\n",
    "        # Chọn ngẫu nhiên 3 biến khác nhau\n",
    "        clause = np.random.choice(num_vars, 3, replace=False)\n",
    "        # Phủ định mỗi biến với xác suất 1/2\n",
    "        clause = [var if np.random.rand() > 0.5 else -var for var in clause]\n",
    "        clauses.append(clause)\n",
    "    return clauses\n",
    "\n",
    "# Tạo input cho Uniform Random-3-SAT\n",
    "ur_3sat_instance = generate_uniform_random_3sat(num_vars, num_clauses)\n",
    "print(\"Bài toán Uniform Random-3-SAT:\")\n",
    "print(ur_3sat_instance)\n"
   ]
  },
  {
   "cell_type": "code",
   "execution_count": 3,
   "id": "2d45cceb",
   "metadata": {},
   "outputs": [
    {
     "name": "stdout",
     "output_type": "stream",
     "text": [
      "Bài toán Random-3-SAT với backbone:\n",
      "[(1, 10, 6), (-4, 5, -9), (9, 10, 7), (8, 9, 2), (-6, -10, 7), (8, 9, -9), (2, -9, 7), (2, 10, 6), (-7, -10, -1), (-8, 10, -6), (8, 9, -9), (9, 4, -10), (-5, -4, -10), (8, -7, -4), (8, 2, 6), (9, -10, 7), (1, 10, -7), (-8, 3, -2), (-7, -6, -1), (-8, 2, 7), (-4, -2, 7), (7, 5, -9), (3, -4, -9), (2, 10, -9), (-9, -2, 7), (1, 10, 3), (2, -4, -3), (9, 3, 6), (3, 4, 7), (-6, -5, 7), (10, 5, -2), (2, 4, -10), (-6, -5, 7), (8, 1, 2), (-8, 5, 7), (-7, 10, 5), (8, -7, 10), (-7, -4, 4), (9, -7, -9), (-7, 3, -3)]\n"
     ]
    }
   ],
   "source": [
    "def generate_random_3sat_instance(num_vars, num_clauses, backbone_size):\n",
    "    # Khởi tạo ví dụ với một danh sách rỗng các mệnh đề\n",
    "    instance = []\n",
    "\n",
    "    # Xác định tập backbone bằng cách chọn backbone_size biểu thức ngẫu nhiên\n",
    "    backbone = set(random.sample(range(1, num_vars + 1), backbone_size))\n",
    "\n",
    "    # Thêm phủ định vào tập backbone với xác suất 50%\n",
    "    backbone = {lit if random.choice([True, False]) else -lit for lit in backbone}\n",
    "\n",
    "    while len(instance) < num_clauses:\n",
    "        # Tạo một mệnh đề với 3 biểu thức duy nhất\n",
    "        clause = set()\n",
    "        while len(clause) < 3:\n",
    "            var = random.randint(1, num_vars)\n",
    "            lit = var if random.choice([True, False]) else -var\n",
    "            clause.add(lit)\n",
    "\n",
    "        # Chuyển đổi mệnh đề thành tuple và thêm vào ví dụ\n",
    "        instance.append(tuple(clause))\n",
    "\n",
    "    # Đảm bảo các biểu thức trong backbone có mặt trong ví dụ\n",
    "    for lit in backbone:\n",
    "        if not any(lit in clause or -lit in clause for clause in instance):\n",
    "            # Thêm một mệnh đề mới chứa biểu thức trong backbone\n",
    "            clause = {lit, random.randint(1, num_vars), random.randint(1, num_vars)}\n",
    "            instance.append(tuple(clause))\n",
    "\n",
    "    return instance\n",
    "\n",
    "backbone_size = 10  # Kích thước backbone\n",
    "sat_instance = generate_random_3sat_instance(num_vars, num_clauses, backbone_size)\n",
    "print(\"Bài toán Random-3-SAT với backbone:\")\n",
    "print(sat_instance)"
   ]
  },
  {
   "cell_type": "code",
   "execution_count": 4,
   "id": "cebc7c64",
   "metadata": {},
   "outputs": [
    {
     "name": "stdout",
     "output_type": "stream",
     "text": [
      "Mệnh đề alpha ngẫu nhiên:\n",
      "[10, 5, -6]\n"
     ]
    }
   ],
   "source": [
    "def generate_alpha(num_vars):\n",
    "    # Chọn ngẫu nhiên 3 biến khác nhau\n",
    "    alpha_clause = np.random.choice(range(1, num_vars+1), 3, replace=False)\n",
    "    # Phủ định mỗi biến với xác suất 1/2\n",
    "    alpha_clause = [var if np.random.rand() > 0.5 else -var for var in alpha_clause]\n",
    "    return alpha_clause\n",
    "\n",
    "# Sử dụng hàm generate_alpha để tạo alpha\n",
    "alpha = generate_alpha(num_vars)\n",
    "print(\"Mệnh đề alpha ngẫu nhiên:\")\n",
    "print(alpha)\n"
   ]
  },
  {
   "cell_type": "markdown",
   "id": "0231e9f1",
   "metadata": {},
   "source": [
    "### Uniform random 3sat"
   ]
  },
  {
   "cell_type": "markdown",
   "id": "f765540d",
   "metadata": {},
   "source": [
    "##### PL-Resolution"
   ]
  },
  {
   "cell_type": "code",
   "execution_count": 5,
   "id": "82caba0c",
   "metadata": {},
   "outputs": [],
   "source": [
    "# Hàm kiểm tra xem một mệnh đề có phải là mệnh đề trống không\n",
    "def is_empty_clause(clause):\n",
    "    return len(clause) == 0\n",
    "\n",
    "# Hàm kiểm tra xem hai mệnh đề có phải là mệnh đề đối nhau không\n",
    "def is_complementary(clause1, clause2):\n",
    "    for literal in clause1:\n",
    "        if -literal in clause2:\n",
    "            return True\n",
    "    return False\n",
    "\n",
    "# Hàm PL_Resolve để tạo ra các mệnh đề mới từ hai mệnh đề đầu vào\n",
    "def PL_Resolve(clause1, clause2):\n",
    "    resolved_clause = []\n",
    "    for literal in clause1:\n",
    "        if -literal not in clause2:\n",
    "            resolved_clause.append(literal)\n",
    "    return resolved_clause\n",
    "\n",
    "# Hàm kiểm tra xem mệnh đề mới đã tồn tại trong tập mệnh đề hay chưa\n",
    "def is_clause_in_set(clause, clause_set):\n",
    "    for c in clause_set:\n",
    "        if set(c) == set(clause):\n",
    "            return True\n",
    "    return False\n",
    "\n",
    "# Thuật toán PL_Resolution\n",
    "def PL_Resolution(clauses, alpha):\n",
    "    # Thêm phủ định của alpha vào KB\n",
    "    clauses_with_alpha = clauses + [[-lit for lit in alpha]]\n",
    "    new_clauses = set(tuple(clause) for clause in clauses_with_alpha)\n",
    "    while True:\n",
    "        n = len(new_clauses)\n",
    "        pairs = [(clause1, clause2) for clause1 in new_clauses for clause2 \n",
    "                 in new_clauses if clause1 != clause2]\n",
    "        for (clause1, clause2) in pairs:\n",
    "            if is_complementary(clause1, clause2):\n",
    "                resolved_clause = PL_Resolve(clause1, clause2)\n",
    "                if is_empty_clause(resolved_clause):\n",
    "                    return True\n",
    "                if not is_clause_in_set(resolved_clause, new_clauses):\n",
    "                    new_clauses.add(tuple(resolved_clause))\n",
    "        if len(new_clauses) == n:\n",
    "            return False"
   ]
  },
  {
   "cell_type": "code",
   "execution_count": 6,
   "id": "ce42df6f",
   "metadata": {},
   "outputs": [
    {
     "name": "stdout",
     "output_type": "stream",
     "text": [
      "Có phân giải hợp lý với KB và alpha.\n",
      "Thời gian thực thi: 0.0019981861114501953 giây.\n"
     ]
    }
   ],
   "source": [
    "start_time = time.time()\n",
    "# Kiểm tra tìm kiếm phép phân giải với KB và alpha\n",
    "result = PL_Resolution(ur_3sat_instance, alpha)\n",
    "\n",
    "end_time = time.time()\n",
    "execution_time = end_time - start_time\n",
    "\n",
    "if result:\n",
    "    print(\"Có phân giải hợp lý với KB và alpha.\")\n",
    "else:\n",
    "    print(\"Không có phân giải hợp lý với KB và alpha.\")\n",
    "\n",
    "print(f\"Thời gian thực thi: {execution_time} giây.\")"
   ]
  },
  {
   "cell_type": "markdown",
   "id": "5415c2f3",
   "metadata": {},
   "source": [
    "##### DPLL"
   ]
  },
  {
   "cell_type": "code",
   "execution_count": 7,
   "id": "c8bc48b3",
   "metadata": {},
   "outputs": [],
   "source": [
    "import random\n",
    "import numpy as np\n",
    "\n",
    "def dpll(clauses, assignment=[]):\n",
    "    # Kiểm tra xem có mệnh đề rỗng nào không\n",
    "    if [] in clauses:\n",
    "        return False\n",
    "    # Kiểm tra xem tất cả mệnh đề đã được thỏa mãn chưa\n",
    "    if not clauses:\n",
    "        return assignment\n",
    "    # Chọn một biến ngẫu nhiên từ mệnh đề đầu tiên\n",
    "    for clause in clauses:\n",
    "        if clause:\n",
    "            var = random.choice(clause)\n",
    "            break\n",
    "    # Tạo danh sách các mệnh đề mới sau khi gán giá trị cho biến\n",
    "    def new_clauses(clauses, var):\n",
    "        # Loại bỏ mệnh đề nếu chứa biến với giá trị đúng\n",
    "        # Loại bỏ biến đối lập nếu mệnh đề chứa biến đối lập\n",
    "        new_clauses = []\n",
    "        for clause in clauses:\n",
    "            if var in clause:\n",
    "                continue\n",
    "            new_clause = [x for x in clause if x != -var]\n",
    "            new_clauses.append(new_clause)\n",
    "        return new_clauses\n",
    "    # Thử gán True cho biến và gọi đệ quy DPLL\n",
    "    if dpll(new_clauses(clauses, var), assignment + [var]):\n",
    "        return assignment + [var]\n",
    "    # Thử gán False cho biến và gọi đệ quy DPLL\n",
    "    if dpll(new_clauses(clauses, -var), assignment + [-var]):\n",
    "        return assignment + [-var]\n",
    "    # Nếu cả hai trường hợp đều không thỏa mãn, trả về False\n",
    "    return False"
   ]
  },
  {
   "cell_type": "code",
   "execution_count": 8,
   "id": "4973768e",
   "metadata": {},
   "outputs": [
    {
     "name": "stdout",
     "output_type": "stream",
     "text": [
      "Tìm được lời giải thỏa mãn KB và alpha:\n",
      "[-2]\n",
      "Thời gian thực thi: 0.0 giây.\n"
     ]
    }
   ],
   "source": [
    "start_time = time.time()\n",
    "# Kiểm tra xem alpha có thể được suy ra từ ur_3sat_instance không\n",
    "dpll_solution = dpll(ur_3sat_instance + [alpha])\n",
    "end_time = time.time()\n",
    "execution_time = end_time - start_time\n",
    "\n",
    "if dpll_solution:\n",
    "    print(\"Tìm được lời giải thỏa mãn KB và alpha:\")\n",
    "    print(dpll_solution)\n",
    "else:\n",
    "    print(\"Không tìm được lời giải thỏa mãn KB và alpha.\")\n",
    "print(f\"Thời gian thực thi: {execution_time} giây.\")"
   ]
  },
  {
   "cell_type": "markdown",
   "id": "347aae6c",
   "metadata": {},
   "source": [
    "##### WalkSAT"
   ]
  },
  {
   "cell_type": "code",
   "execution_count": 9,
   "id": "eccdac07",
   "metadata": {
    "scrolled": true
   },
   "outputs": [],
   "source": [
    "def walksat(clauses, alpha, max_flips=10000, p=0.5):\n",
    "    # Thêm phủ định của alpha vào KB\n",
    "    clauses_with_alpha = clauses + [[-lit for lit in alpha]]\n",
    "\n",
    "    # Khởi tạo một lời giải ngẫu nhiên\n",
    "    n_vars = max(abs(var) for clause in clauses_with_alpha for var in clause)\n",
    "    assignment = [random.choice([-1, 1]) for _ in range(n_vars)]\n",
    "    for _ in range(max_flips):\n",
    "        # Tìm mệnh đề không thỏa mãn\n",
    "        unsatisfied = [clause for clause in clauses_with_alpha if not any(assignment[abs(var) - 1] == var // abs(var) for var in clause)]\n",
    "\n",
    "        # Nếu không còn mệnh đề không thỏa mãn, trả về lời giải\n",
    "        if not unsatisfied:\n",
    "            return assignment\n",
    "\n",
    "        # Chọn một mệnh đề không thỏa mãn\n",
    "        clause = random.choice(unsatisfied)\n",
    "\n",
    "        # Với xác suất p, chọn một biến ngẫu nhiên trong mệnh đề để đảo giá trị\n",
    "        # Với xác suất 1-p, chọn biến làm giảm nhiều nhất số mệnh đề không thỏa mãn\n",
    "        if random.random() < p:\n",
    "            var = random.choice(clause)\n",
    "        else:\n",
    "            # Tạo danh sách các cặp (bool, var) cho mỗi biến trong mệnh đề\n",
    "            bool_var_pairs = [(assignment[abs(var) - 1] != var // abs(var), var) for var in clause]\n",
    "\n",
    "            # Sắp xếp danh sách theo thứ tự tăng dần của giá trị bool\n",
    "            bool_var_pairs.sort()\n",
    "\n",
    "            # Chọn biến đầu tiên (làm giảm nhiều nhất số mệnh đề không thỏa mãn)\n",
    "            var = bool_var_pairs[0][1]\n",
    "\n",
    "        # Đảo giá trị của biến đã chọn\n",
    "        assignment[abs(var) - 1] *= -1\n",
    "\n",
    "    # Nếu không tìm được lời giải sau số lần đảo giá trị tối đa, trả về None\n",
    "    return None"
   ]
  },
  {
   "cell_type": "code",
   "execution_count": 10,
   "id": "1b3e1c26",
   "metadata": {},
   "outputs": [
    {
     "name": "stderr",
     "output_type": "stream",
     "text": [
      "C:\\Users\\FLOWER\\AppData\\Local\\Temp\\ipykernel_38464\\3491197931.py:10: RuntimeWarning: divide by zero encountered in scalar floor_divide\n",
      "  unsatisfied = [clause for clause in clauses_with_alpha if not any(assignment[abs(var) - 1] == var // abs(var) for var in clause)]\n",
      "C:\\Users\\FLOWER\\AppData\\Local\\Temp\\ipykernel_38464\\3491197931.py:25: RuntimeWarning: divide by zero encountered in scalar floor_divide\n",
      "  bool_var_pairs = [(assignment[abs(var) - 1] != var // abs(var), var) for var in clause]\n"
     ]
    },
    {
     "name": "stdout",
     "output_type": "stream",
     "text": [
      "\n",
      "Không tìm được lời giải thỏa mãn KB và alpha.\n",
      "Thời gian thực thi: 0.6106839179992676 giây.\n"
     ]
    }
   ],
   "source": [
    "start_time = time.time()\n",
    "# Giải bài toán Uniform Random-3-SAT bằng WalkSAT với alpha\n",
    "solution = walksat(ur_3sat_instance, alpha)\n",
    "\n",
    "end_time = time.time()\n",
    "execution_time = end_time - start_time\n",
    "\n",
    "if solution:\n",
    "    print(\"\\nTìm được lời giải thỏa mãn KB và alpha:\")\n",
    "    solution_str = ['Yes' if value == 1 else 'No' for value in solution]\n",
    "    print(solution_str)\n",
    "else:\n",
    "    print(\"\\nKhông tìm được lời giải thỏa mãn KB và alpha.\")\n",
    "    \n",
    "print(f\"Thời gian thực thi: {execution_time} giây.\")"
   ]
  },
  {
   "cell_type": "markdown",
   "id": "40a074e9",
   "metadata": {},
   "source": [
    "### Random 3sat backbone"
   ]
  },
  {
   "cell_type": "markdown",
   "id": "b44e9a0a",
   "metadata": {},
   "source": [
    "##### PL-Resolution"
   ]
  },
  {
   "cell_type": "code",
   "execution_count": 11,
   "id": "8e660885",
   "metadata": {},
   "outputs": [
    {
     "name": "stdout",
     "output_type": "stream",
     "text": [
      "Có phân giải hợp lý với KB và alpha.\n",
      "Thời gian thực thi: 0.04857897758483887 giây.\n"
     ]
    }
   ],
   "source": [
    "start_time = time.time()\n",
    "result = PL_Resolution(sat_instance, alpha)\n",
    "\n",
    "end_time = time.time()\n",
    "execution_time = end_time - start_time\n",
    "\n",
    "if result:\n",
    "    print(\"Có phân giải hợp lý với KB và alpha.\")\n",
    "else:\n",
    "    print(\"Không có phân giải hợp lý với KB và alpha.\")\n",
    "print(f\"Thời gian thực thi: {execution_time} giây.\")"
   ]
  },
  {
   "cell_type": "markdown",
   "id": "9bbfe930",
   "metadata": {},
   "source": [
    "##### DPLL"
   ]
  },
  {
   "cell_type": "code",
   "execution_count": 12,
   "id": "6de05741",
   "metadata": {},
   "outputs": [
    {
     "name": "stdout",
     "output_type": "stream",
     "text": [
      "Tìm được lời giải thỏa mãn KB và alpha:\n",
      "[10]\n",
      "Thời gian thực thi: 0.0 giây.\n"
     ]
    }
   ],
   "source": [
    "start_time = time.time()\n",
    "dpll_solution = dpll(sat_instance + [alpha])\n",
    "\n",
    "end_time = time.time()\n",
    "execution_time = end_time - start_time\n",
    "\n",
    "if dpll_solution:\n",
    "    print(\"Tìm được lời giải thỏa mãn KB và alpha:\")\n",
    "    print(dpll_solution)\n",
    "else:\n",
    "    print(\"Không tìm được lời giải thỏa mãn KB và alpha.\")\n",
    "print(f\"Thời gian thực thi: {execution_time} giây.\")"
   ]
  },
  {
   "cell_type": "markdown",
   "id": "9bcfa087",
   "metadata": {},
   "source": [
    "#### WalkSAT"
   ]
  },
  {
   "cell_type": "code",
   "execution_count": 13,
   "id": "f8df4179",
   "metadata": {
    "scrolled": true
   },
   "outputs": [
    {
     "name": "stdout",
     "output_type": "stream",
     "text": [
      "\n",
      "Tìm được lời giải thỏa mãn KB và alpha:\n",
      "['Yes', 'Yes', 'Yes', 'No', 'Yes', 'No', 'Yes', 'Yes', 'No', 'No']\n",
      "Thời gian thực thi: 0.003997325897216797 giây.\n"
     ]
    }
   ],
   "source": [
    "start_time = time.time()\n",
    "\n",
    "solution = walksat(sat_instance, alpha)\n",
    "\n",
    "end_time = time.time()\n",
    "execution_time = end_time - start_time\n",
    "\n",
    "if solution:\n",
    "    print(\"\\nTìm được lời giải thỏa mãn KB và alpha:\")\n",
    "    solution_str = ['Yes' if value == 1 else 'No' for value in solution]\n",
    "    print(solution_str)\n",
    "else:\n",
    "    print(\"\\nKhông tìm được lời giải thỏa mãn KB và alpha.\")\n",
    "print(f\"Thời gian thực thi: {execution_time} giây.\")"
   ]
  }
 ],
 "metadata": {
  "kernelspec": {
   "display_name": "Python 3 (ipykernel)",
   "language": "python",
   "name": "python3"
  },
  "language_info": {
   "codemirror_mode": {
    "name": "ipython",
    "version": 3
   },
   "file_extension": ".py",
   "mimetype": "text/x-python",
   "name": "python",
   "nbconvert_exporter": "python",
   "pygments_lexer": "ipython3",
   "version": "3.11.1"
  }
 },
 "nbformat": 4,
 "nbformat_minor": 5
}
